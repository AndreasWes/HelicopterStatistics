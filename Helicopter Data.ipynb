import pandas as pd
from bokeh.plotting import figure, show, output_notebook
from bokeh.models import HoverTool, ColumnDataSource, ColorBar, LinearColorMapper
from bokeh.transform import linear_cmap
from bokeh.layouts import column
from bokeh.palettes import Viridis256
import panel as pn

# Pfad zur CSV-Datei
file_path = 'https://raw.githubusercontent.com/AndreasWes/HelicopterStatistics/main/HelicopterStatistics.csv'

# Daten laden
df = pd.read_csv(file_path)
df["Payload fraction"] = df["Load kg"] / df["Dry Weight kg"]

# Panel Widgets
x_select = pn.widgets.Select(name='X-Axis', options=list(df.columns), value="Rotor loading kg/m2")
y_select = pn.widgets.Select(name='Y-Axis', options=list(df.columns), value="Payload fraction")
size_select = pn.widgets.Select(name='Size', options=list(df.columns), value="Crew")
colour_select = pn.widgets.Select(name='Colour', options=list(df.columns), value="total Power kW")

# Plotfunktion
def plot_data(X_Values, Y_Values, size, colour):
    output_notebook()

    min_size = 10
    max_size = 50
    df['circle_size'] = (df[size] - df[size].min()) / (df[size].max() - df[size].min()) * (max_size - min_size) + min_size

    mapper = linear_cmap(field_name=colour, palette=Viridis256, low=df[colour].min(), high=df[colour].max())

    source = ColumnDataSource(data={
        X_Values: df[X_Values],
        Y_Values: df[Y_Values],
        colour: df[colour],
        "Manufacturer": df["Manufacturer"],
        "Code": df["Code"],
        'Load kg': df['Load kg'],
        'Flight time h': df['Flight time h'],
        'Name': df['Name'],
        'Vmax km/h': df['Vmax km/h'],
        'Max Altitude m': df['Max Altitude m'],
        'circle_size': df['circle_size']
    })

    plot_width = 900
    plot_height = 600

    p = figure(title=f"This graph shows ''{Y_Values}'' over ''{X_Values}'' with colors driven by ''{colour}'' and circlesize driven by ''{size}''.", 
               x_axis_label=X_Values, 
               y_axis_label=Y_Values, 
               tools="pan,wheel_zoom,box_zoom,reset",
               width=plot_width,
               height=plot_height)

    p.circle(X_Values, Y_Values, size='circle_size', source=source, color=mapper, alpha=0.6)

    hover = HoverTool()
    hover.tooltips = [
        ("Manufacturer", "@Manufacturer"),
        ("Name", "@Name"),
        ("Nato-Code", "@Code"),
        ("Load kg", "@{Load kg}"),
        ("Flight time h", "@{Flight time h}"),
        ("Vmax km/h", "@{Vmax km/h}"),
        ("Max Altitude m", "@{Max Altitude m}")
    ]
    p.add_tools(hover)

    color_bar = ColorBar(color_mapper=mapper['transform'], width=8, location=(0, 0), title=colour)
    p.add_layout(color_bar, 'right')

    return p

@pn.depends(x_select, y_select, size_select, colour_select)
def update_plot(x, y, size, colour):
    return plot_data(x, y, size, colour)

layout = pn.Column(x_select, y_select, size_select, colour_select, update_plot)
pn.serve(layout)
